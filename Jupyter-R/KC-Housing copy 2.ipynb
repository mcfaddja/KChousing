{
 "cells": [
  {
   "cell_type": "markdown",
   "metadata": {},
   "source": [
    "install.packages(\"magrittr\")\n",
    "install.packages(\"ggmap\")\n",
    "install.packages(\"geosphere\")\n",
    "install.packages(\"httr\")"
   ]
  },
  {
   "cell_type": "markdown",
   "metadata": {},
   "source": [
    "# King County Housing Prices\n",
    "### *Jonathan McFadden*\n",
    "**TCSS-551: Big Data Analytics** -:- **_Autumn 2017_**\n",
    "\n",
    "## Introduction\n",
    "\n",
    "\n",
    "### Overview\n",
    "\n",
    "For our final project, we have chosen to analyze data covering housing sales in King County.  To do this, we are using the data from the **Kaggle** *King County House Sales Prediction* page at\n",
    "\n",
    "<center>https://www.kaggle.com/harlfoxem/housesalesprediction</center>\n",
    "\n",
    "From this page, we sign-up for an account (*free, but required for downloading*) and then download the *zip* file containing the *CSV* file with the data.\n",
    "\n",
    "Our goal is to use this data to create models for home sales in King County based on the feature information provided in the obtained data file.  Our eventual goal is two-fold.  First, we wish to create a model or models which will enable us to quantitatively predict house sale prices, using this data set as the basis for our model or models.  Our other goal is to determine, based on the obtained data, which features are most important to the sale price of a house.\n",
    "\n",
    "### Data File\n",
    "\n",
    "Our first task is to import, examine, and then give an overall description of the data.  We are especially interested in the size and descriptive contents of the data file.  Specifially, we want to know the number of sales contined within the data file and, especially, what parameters the data file uses to describe each house sale.  Furthermore, we want to check the import to ensure that the data was initially complete, that it was then imported correctly, and that **_R_** is interpreting the imported data properly.\n",
    "\n",
    "#### Import and First-Look\n",
    "\n",
    "We begin by importing the data file into the '**_houseDFo_**( )' data frame.  This data frame will serve as an intial data-frame, not the working one.  This is because we may need an initial frame to reload as a we clean the data, allowing us to avoid having to reimport the CSV file over ang over again.  Thus, we now import the CSV file into this initial data frame."
   ]
  },
  {
   "cell_type": "code",
   "execution_count": 26,
   "metadata": {
    "collapsed": true
   },
   "outputs": [],
   "source": [
    "houseDFo <- read.csv(\"../houseData.csv\")"
   ]
  },
  {
   "cell_type": "markdown",
   "metadata": {},
   "source": [
    "We are now interested in the number of data-points contined within the data file.  Thus, we want to see how many row **_R_** has imported."
   ]
  },
  {
   "cell_type": "code",
   "execution_count": 27,
   "metadata": {},
   "outputs": [
    {
     "data": {
      "text/html": [
       "21613"
      ],
      "text/latex": [
       "21613"
      ],
      "text/markdown": [
       "21613"
      ],
      "text/plain": [
       "[1] 21613"
      ]
     },
     "metadata": {},
     "output_type": "display_data"
    }
   ],
   "source": [
    "nrow(houseDFo)"
   ]
  },
  {
   "cell_type": "markdown",
   "metadata": {},
   "source": [
    "We also want to see how many descriptors the imported data uses to describe each house sale.  Thus we want to see how many columns **_R_** has imported."
   ]
  },
  {
   "cell_type": "code",
   "execution_count": 28,
   "metadata": {
    "scrolled": true
   },
   "outputs": [
    {
     "data": {
      "text/html": [
       "21"
      ],
      "text/latex": [
       "21"
      ],
      "text/markdown": [
       "21"
      ],
      "text/plain": [
       "[1] 21"
      ]
     },
     "metadata": {},
     "output_type": "display_data"
    }
   ],
   "source": [
    "ncol(houseDFo)"
   ]
  },
  {
   "cell_type": "markdown",
   "metadata": {},
   "source": [
    "In addition, we want to see what the labels for those columns are and what type of values the elements of each column have (*interger, numeric, string, etc.*)"
   ]
  },
  {
   "cell_type": "code",
   "execution_count": 29,
   "metadata": {},
   "outputs": [
    {
     "data": {
      "text/html": [
       "<dl class=dl-horizontal>\n",
       "\t<dt>id</dt>\n",
       "\t\t<dd>'numeric'</dd>\n",
       "\t<dt>date</dt>\n",
       "\t\t<dd>'factor'</dd>\n",
       "\t<dt>price</dt>\n",
       "\t\t<dd>'numeric'</dd>\n",
       "\t<dt>bedrooms</dt>\n",
       "\t\t<dd>'integer'</dd>\n",
       "\t<dt>bathrooms</dt>\n",
       "\t\t<dd>'numeric'</dd>\n",
       "\t<dt>sqft_living</dt>\n",
       "\t\t<dd>'integer'</dd>\n",
       "\t<dt>sqft_lot</dt>\n",
       "\t\t<dd>'integer'</dd>\n",
       "\t<dt>floors</dt>\n",
       "\t\t<dd>'numeric'</dd>\n",
       "\t<dt>waterfront</dt>\n",
       "\t\t<dd>'integer'</dd>\n",
       "\t<dt>view</dt>\n",
       "\t\t<dd>'integer'</dd>\n",
       "\t<dt>condition</dt>\n",
       "\t\t<dd>'integer'</dd>\n",
       "\t<dt>grade</dt>\n",
       "\t\t<dd>'integer'</dd>\n",
       "\t<dt>sqft_above</dt>\n",
       "\t\t<dd>'integer'</dd>\n",
       "\t<dt>sqft_basement</dt>\n",
       "\t\t<dd>'integer'</dd>\n",
       "\t<dt>yr_built</dt>\n",
       "\t\t<dd>'integer'</dd>\n",
       "\t<dt>yr_renovated</dt>\n",
       "\t\t<dd>'integer'</dd>\n",
       "\t<dt>zipcode</dt>\n",
       "\t\t<dd>'integer'</dd>\n",
       "\t<dt>lat</dt>\n",
       "\t\t<dd>'numeric'</dd>\n",
       "\t<dt>long</dt>\n",
       "\t\t<dd>'numeric'</dd>\n",
       "\t<dt>sqft_living15</dt>\n",
       "\t\t<dd>'integer'</dd>\n",
       "\t<dt>sqft_lot15</dt>\n",
       "\t\t<dd>'integer'</dd>\n",
       "</dl>\n"
      ],
      "text/latex": [
       "\\begin{description*}\n",
       "\\item[id] 'numeric'\n",
       "\\item[date] 'factor'\n",
       "\\item[price] 'numeric'\n",
       "\\item[bedrooms] 'integer'\n",
       "\\item[bathrooms] 'numeric'\n",
       "\\item[sqft\\textbackslash{}\\_living] 'integer'\n",
       "\\item[sqft\\textbackslash{}\\_lot] 'integer'\n",
       "\\item[floors] 'numeric'\n",
       "\\item[waterfront] 'integer'\n",
       "\\item[view] 'integer'\n",
       "\\item[condition] 'integer'\n",
       "\\item[grade] 'integer'\n",
       "\\item[sqft\\textbackslash{}\\_above] 'integer'\n",
       "\\item[sqft\\textbackslash{}\\_basement] 'integer'\n",
       "\\item[yr\\textbackslash{}\\_built] 'integer'\n",
       "\\item[yr\\textbackslash{}\\_renovated] 'integer'\n",
       "\\item[zipcode] 'integer'\n",
       "\\item[lat] 'numeric'\n",
       "\\item[long] 'numeric'\n",
       "\\item[sqft\\textbackslash{}\\_living15] 'integer'\n",
       "\\item[sqft\\textbackslash{}\\_lot15] 'integer'\n",
       "\\end{description*}\n"
      ],
      "text/markdown": [
       "id\n",
       ":   'numeric'date\n",
       ":   'factor'price\n",
       ":   'numeric'bedrooms\n",
       ":   'integer'bathrooms\n",
       ":   'numeric'sqft_living\n",
       ":   'integer'sqft_lot\n",
       ":   'integer'floors\n",
       ":   'numeric'waterfront\n",
       ":   'integer'view\n",
       ":   'integer'condition\n",
       ":   'integer'grade\n",
       ":   'integer'sqft_above\n",
       ":   'integer'sqft_basement\n",
       ":   'integer'yr_built\n",
       ":   'integer'yr_renovated\n",
       ":   'integer'zipcode\n",
       ":   'integer'lat\n",
       ":   'numeric'long\n",
       ":   'numeric'sqft_living15\n",
       ":   'integer'sqft_lot15\n",
       ":   'integer'\n",
       "\n"
      ],
      "text/plain": [
       "           id          date         price      bedrooms     bathrooms \n",
       "    \"numeric\"      \"factor\"     \"numeric\"     \"integer\"     \"numeric\" \n",
       "  sqft_living      sqft_lot        floors    waterfront          view \n",
       "    \"integer\"     \"integer\"     \"numeric\"     \"integer\"     \"integer\" \n",
       "    condition         grade    sqft_above sqft_basement      yr_built \n",
       "    \"integer\"     \"integer\"     \"integer\"     \"integer\"     \"integer\" \n",
       " yr_renovated       zipcode           lat          long sqft_living15 \n",
       "    \"integer\"     \"integer\"     \"numeric\"     \"numeric\"     \"integer\" \n",
       "   sqft_lot15 \n",
       "    \"integer\" "
      ]
     },
     "metadata": {},
     "output_type": "display_data"
    }
   ],
   "source": [
    "sapply(houseDFo, class)"
   ]
  },
  {
   "cell_type": "markdown",
   "metadata": {},
   "source": [
    "From above, it is clear that the **date** column did not import as a *date*, instead importing as a *factor*.  Therefore, we will now examine the first few rows of the imported data to see what may have caused the issues with imporation."
   ]
  },
  {
   "cell_type": "code",
   "execution_count": 30,
   "metadata": {},
   "outputs": [
    {
     "data": {
      "text/html": [
       "<table>\n",
       "<thead><tr><th scope=col>id</th><th scope=col>date</th><th scope=col>price</th><th scope=col>bedrooms</th><th scope=col>bathrooms</th><th scope=col>sqft_living</th><th scope=col>sqft_lot</th><th scope=col>floors</th><th scope=col>waterfront</th><th scope=col>view</th><th scope=col>⋯</th><th scope=col>grade</th><th scope=col>sqft_above</th><th scope=col>sqft_basement</th><th scope=col>yr_built</th><th scope=col>yr_renovated</th><th scope=col>zipcode</th><th scope=col>lat</th><th scope=col>long</th><th scope=col>sqft_living15</th><th scope=col>sqft_lot15</th></tr></thead>\n",
       "<tbody>\n",
       "\t<tr><td>7129300520     </td><td>20141013T000000</td><td> 221900        </td><td>3              </td><td>1.00           </td><td>1180           </td><td>  5650         </td><td>1              </td><td>0              </td><td>0              </td><td>⋯              </td><td> 7             </td><td>1180           </td><td>   0           </td><td>1955           </td><td>   0           </td><td>98178          </td><td>47.5112        </td><td>-122.257       </td><td>1340           </td><td>  5650         </td></tr>\n",
       "\t<tr><td>6414100192     </td><td>20141209T000000</td><td> 538000        </td><td>3              </td><td>2.25           </td><td>2570           </td><td>  7242         </td><td>2              </td><td>0              </td><td>0              </td><td>⋯              </td><td> 7             </td><td>2170           </td><td> 400           </td><td>1951           </td><td>1991           </td><td>98125          </td><td>47.7210        </td><td>-122.319       </td><td>1690           </td><td>  7639         </td></tr>\n",
       "\t<tr><td>5631500400     </td><td>20150225T000000</td><td> 180000        </td><td>2              </td><td>1.00           </td><td> 770           </td><td> 10000         </td><td>1              </td><td>0              </td><td>0              </td><td>⋯              </td><td> 6             </td><td> 770           </td><td>   0           </td><td>1933           </td><td>   0           </td><td>98028          </td><td>47.7379        </td><td>-122.233       </td><td>2720           </td><td>  8062         </td></tr>\n",
       "\t<tr><td>2487200875     </td><td>20141209T000000</td><td> 604000        </td><td>4              </td><td>3.00           </td><td>1960           </td><td>  5000         </td><td>1              </td><td>0              </td><td>0              </td><td>⋯              </td><td> 7             </td><td>1050           </td><td> 910           </td><td>1965           </td><td>   0           </td><td>98136          </td><td>47.5208        </td><td>-122.393       </td><td>1360           </td><td>  5000         </td></tr>\n",
       "\t<tr><td>1954400510     </td><td>20150218T000000</td><td> 510000        </td><td>3              </td><td>2.00           </td><td>1680           </td><td>  8080         </td><td>1              </td><td>0              </td><td>0              </td><td>⋯              </td><td> 8             </td><td>1680           </td><td>   0           </td><td>1987           </td><td>   0           </td><td>98074          </td><td>47.6168        </td><td>-122.045       </td><td>1800           </td><td>  7503         </td></tr>\n",
       "\t<tr><td>7237550310     </td><td>20140512T000000</td><td>1225000        </td><td>4              </td><td>4.50           </td><td>5420           </td><td>101930         </td><td>1              </td><td>0              </td><td>0              </td><td>⋯              </td><td>11             </td><td>3890           </td><td>1530           </td><td>2001           </td><td>   0           </td><td>98053          </td><td>47.6561        </td><td>-122.005       </td><td>4760           </td><td>101930         </td></tr>\n",
       "</tbody>\n",
       "</table>\n"
      ],
      "text/latex": [
       "\\begin{tabular}{r|lllllllllllllllllllll}\n",
       " id & date & price & bedrooms & bathrooms & sqft\\_living & sqft\\_lot & floors & waterfront & view & ⋯ & grade & sqft\\_above & sqft\\_basement & yr\\_built & yr\\_renovated & zipcode & lat & long & sqft\\_living15 & sqft\\_lot15\\\\\n",
       "\\hline\n",
       "\t 7129300520      & 20141013T000000 &  221900         & 3               & 1.00            & 1180            &   5650          & 1               & 0               & 0               & ⋯               &  7              & 1180            &    0            & 1955            &    0            & 98178           & 47.5112         & -122.257        & 1340            &   5650         \\\\\n",
       "\t 6414100192      & 20141209T000000 &  538000         & 3               & 2.25            & 2570            &   7242          & 2               & 0               & 0               & ⋯               &  7              & 2170            &  400            & 1951            & 1991            & 98125           & 47.7210         & -122.319        & 1690            &   7639         \\\\\n",
       "\t 5631500400      & 20150225T000000 &  180000         & 2               & 1.00            &  770            &  10000          & 1               & 0               & 0               & ⋯               &  6              &  770            &    0            & 1933            &    0            & 98028           & 47.7379         & -122.233        & 2720            &   8062         \\\\\n",
       "\t 2487200875      & 20141209T000000 &  604000         & 4               & 3.00            & 1960            &   5000          & 1               & 0               & 0               & ⋯               &  7              & 1050            &  910            & 1965            &    0            & 98136           & 47.5208         & -122.393        & 1360            &   5000         \\\\\n",
       "\t 1954400510      & 20150218T000000 &  510000         & 3               & 2.00            & 1680            &   8080          & 1               & 0               & 0               & ⋯               &  8              & 1680            &    0            & 1987            &    0            & 98074           & 47.6168         & -122.045        & 1800            &   7503         \\\\\n",
       "\t 7237550310      & 20140512T000000 & 1225000         & 4               & 4.50            & 5420            & 101930          & 1               & 0               & 0               & ⋯               & 11              & 3890            & 1530            & 2001            &    0            & 98053           & 47.6561         & -122.005        & 4760            & 101930         \\\\\n",
       "\\end{tabular}\n"
      ],
      "text/markdown": [
       "\n",
       "id | date | price | bedrooms | bathrooms | sqft_living | sqft_lot | floors | waterfront | view | ⋯ | grade | sqft_above | sqft_basement | yr_built | yr_renovated | zipcode | lat | long | sqft_living15 | sqft_lot15 | \n",
       "|---|---|---|---|---|---|\n",
       "| 7129300520      | 20141013T000000 |  221900         | 3               | 1.00            | 1180            |   5650          | 1               | 0               | 0               | ⋯               |  7              | 1180            |    0            | 1955            |    0            | 98178           | 47.5112         | -122.257        | 1340            |   5650          | \n",
       "| 6414100192      | 20141209T000000 |  538000         | 3               | 2.25            | 2570            |   7242          | 2               | 0               | 0               | ⋯               |  7              | 2170            |  400            | 1951            | 1991            | 98125           | 47.7210         | -122.319        | 1690            |   7639          | \n",
       "| 5631500400      | 20150225T000000 |  180000         | 2               | 1.00            |  770            |  10000          | 1               | 0               | 0               | ⋯               |  6              |  770            |    0            | 1933            |    0            | 98028           | 47.7379         | -122.233        | 2720            |   8062          | \n",
       "| 2487200875      | 20141209T000000 |  604000         | 4               | 3.00            | 1960            |   5000          | 1               | 0               | 0               | ⋯               |  7              | 1050            |  910            | 1965            |    0            | 98136           | 47.5208         | -122.393        | 1360            |   5000          | \n",
       "| 1954400510      | 20150218T000000 |  510000         | 3               | 2.00            | 1680            |   8080          | 1               | 0               | 0               | ⋯               |  8              | 1680            |    0            | 1987            |    0            | 98074           | 47.6168         | -122.045        | 1800            |   7503          | \n",
       "| 7237550310      | 20140512T000000 | 1225000         | 4               | 4.50            | 5420            | 101930          | 1               | 0               | 0               | ⋯               | 11              | 3890            | 1530            | 2001            |    0            | 98053           | 47.6561         | -122.005        | 4760            | 101930          | \n",
       "\n",
       "\n"
      ],
      "text/plain": [
       "  id         date            price   bedrooms bathrooms sqft_living sqft_lot\n",
       "1 7129300520 20141013T000000  221900 3        1.00      1180          5650  \n",
       "2 6414100192 20141209T000000  538000 3        2.25      2570          7242  \n",
       "3 5631500400 20150225T000000  180000 2        1.00       770         10000  \n",
       "4 2487200875 20141209T000000  604000 4        3.00      1960          5000  \n",
       "5 1954400510 20150218T000000  510000 3        2.00      1680          8080  \n",
       "6 7237550310 20140512T000000 1225000 4        4.50      5420        101930  \n",
       "  floors waterfront view ⋯ grade sqft_above sqft_basement yr_built yr_renovated\n",
       "1 1      0          0    ⋯  7    1180          0          1955        0        \n",
       "2 2      0          0    ⋯  7    2170        400          1951     1991        \n",
       "3 1      0          0    ⋯  6     770          0          1933        0        \n",
       "4 1      0          0    ⋯  7    1050        910          1965        0        \n",
       "5 1      0          0    ⋯  8    1680          0          1987        0        \n",
       "6 1      0          0    ⋯ 11    3890       1530          2001        0        \n",
       "  zipcode lat     long     sqft_living15 sqft_lot15\n",
       "1 98178   47.5112 -122.257 1340            5650    \n",
       "2 98125   47.7210 -122.319 1690            7639    \n",
       "3 98028   47.7379 -122.233 2720            8062    \n",
       "4 98136   47.5208 -122.393 1360            5000    \n",
       "5 98074   47.6168 -122.045 1800            7503    \n",
       "6 98053   47.6561 -122.005 4760          101930    "
      ]
     },
     "metadata": {},
     "output_type": "display_data"
    }
   ],
   "source": [
    "head(houseDFo)"
   ]
  },
  {
   "cell_type": "markdown",
   "metadata": {},
   "source": [
    "Clearly, some elements of the data file did not import correctly; therefore, we must clean the data before we can proceed to analysis.\n",
    "\n",
    "### Clean the Data\n",
    "\n",
    "#### Missing Data\n",
    "\n",
    "First, we will check to see if there are any missing data points."
   ]
  },
  {
   "cell_type": "code",
   "execution_count": 31,
   "metadata": {},
   "outputs": [
    {
     "name": "stderr",
     "output_type": "stream",
     "text": [
      "Warning message in cbind(parts$left, ellip_h, parts$right, deparse.level = 0L):\n",
      "“number of rows of result is not a multiple of vector length (arg 2)”Warning message in cbind(parts$left, ellip_h, parts$right, deparse.level = 0L):\n",
      "“number of rows of result is not a multiple of vector length (arg 2)”Warning message in cbind(parts$left, ellip_h, parts$right, deparse.level = 0L):\n",
      "“number of rows of result is not a multiple of vector length (arg 2)”Warning message in cbind(parts$left, ellip_h, parts$right, deparse.level = 0L):\n",
      "“number of rows of result is not a multiple of vector length (arg 2)”"
     ]
    },
    {
     "data": {
      "text/html": [
       "<table>\n",
       "<thead><tr><th scope=col>id</th><th scope=col>date</th><th scope=col>price</th><th scope=col>bedrooms</th><th scope=col>bathrooms</th><th scope=col>sqft_living</th><th scope=col>sqft_lot</th><th scope=col>floors</th><th scope=col>waterfront</th><th scope=col>view</th><th scope=col>⋯</th><th scope=col>grade</th><th scope=col>sqft_above</th><th scope=col>sqft_basement</th><th scope=col>yr_built</th><th scope=col>yr_renovated</th><th scope=col>zipcode</th><th scope=col>lat</th><th scope=col>long</th><th scope=col>sqft_living15</th><th scope=col>sqft_lot15</th></tr></thead>\n",
       "<tbody>\n",
       "</tbody>\n",
       "</table>\n"
      ],
      "text/latex": [
       "\\begin{tabular}{r|lllllllllllllllllllll}\n",
       " id & date & price & bedrooms & bathrooms & sqft\\_living & sqft\\_lot & floors & waterfront & view & ⋯ & grade & sqft\\_above & sqft\\_basement & yr\\_built & yr\\_renovated & zipcode & lat & long & sqft\\_living15 & sqft\\_lot15\\\\\n",
       "\\hline\n",
       "\\end{tabular}\n"
      ],
      "text/markdown": [
       "\n",
       "id | date | price | bedrooms | bathrooms | sqft_living | sqft_lot | floors | waterfront | view | ⋯ | grade | sqft_above | sqft_basement | yr_built | yr_renovated | zipcode | lat | long | sqft_living15 | sqft_lot15 | \n",
       "||\n",
       "\n",
       "\n"
      ],
      "text/plain": [
       "     id date price bedrooms bathrooms sqft_living sqft_lot floors waterfront\n",
       "     view ⋯ grade sqft_above sqft_basement yr_built yr_renovated zipcode lat\n",
       "     long sqft_living15 sqft_lot15"
      ]
     },
     "metadata": {},
     "output_type": "display_data"
    }
   ],
   "source": [
    "houseDFo[!complete.cases(houseDFo),]"
   ]
  },
  {
   "cell_type": "markdown",
   "metadata": {},
   "source": [
    "Since there are no missing data points, we can move on to the dates.\n",
    "\n",
    "#### Dates\n",
    "\n",
    "From the first few rows of the data table seen above, it is clear that we must first strip the *\"T000000\"* string at the end of every date.  To do this, we require the **stringr** library.  Thus, we import **stringr**"
   ]
  },
  {
   "cell_type": "code",
   "execution_count": 32,
   "metadata": {},
   "outputs": [],
   "source": [
    "library(stringr)"
   ]
  },
  {
   "cell_type": "markdown",
   "metadata": {},
   "source": [
    "so we can now strip the offending substrings.  Before stripping these substrings, we create a copy of our initial data frame, **_houseDFo_**( ), so that our initial import data frame will remain untouched, and therefore available for reloading other data frames.  Thus, we create the copy and strip the substrings, storing the result in the copied data frame **_houseDFo1_**( )."
   ]
  },
  {
   "cell_type": "code",
   "execution_count": 33,
   "metadata": {},
   "outputs": [],
   "source": [
    "houseDFo1 <- houseDFo\n",
    "houseDFo1$date = str_replace(houseDFo$date, \"T000000\", \"\")"
   ]
  },
  {
   "cell_type": "markdown",
   "metadata": {},
   "source": [
    "We now examine the result of this"
   ]
  },
  {
   "cell_type": "code",
   "execution_count": 34,
   "metadata": {
    "scrolled": false
   },
   "outputs": [
    {
     "data": {
      "text/html": [
       "<table>\n",
       "<thead><tr><th scope=col>id</th><th scope=col>date</th><th scope=col>price</th><th scope=col>bedrooms</th><th scope=col>bathrooms</th><th scope=col>sqft_living</th><th scope=col>sqft_lot</th><th scope=col>floors</th><th scope=col>waterfront</th><th scope=col>view</th><th scope=col>⋯</th><th scope=col>grade</th><th scope=col>sqft_above</th><th scope=col>sqft_basement</th><th scope=col>yr_built</th><th scope=col>yr_renovated</th><th scope=col>zipcode</th><th scope=col>lat</th><th scope=col>long</th><th scope=col>sqft_living15</th><th scope=col>sqft_lot15</th></tr></thead>\n",
       "<tbody>\n",
       "\t<tr><td>7129300520</td><td>20141013  </td><td> 221900   </td><td>3         </td><td>1.00      </td><td>1180      </td><td>  5650    </td><td>1         </td><td>0         </td><td>0         </td><td>⋯         </td><td> 7        </td><td>1180      </td><td>   0      </td><td>1955      </td><td>   0      </td><td>98178     </td><td>47.5112   </td><td>-122.257  </td><td>1340      </td><td>  5650    </td></tr>\n",
       "\t<tr><td>6414100192</td><td>20141209  </td><td> 538000   </td><td>3         </td><td>2.25      </td><td>2570      </td><td>  7242    </td><td>2         </td><td>0         </td><td>0         </td><td>⋯         </td><td> 7        </td><td>2170      </td><td> 400      </td><td>1951      </td><td>1991      </td><td>98125     </td><td>47.7210   </td><td>-122.319  </td><td>1690      </td><td>  7639    </td></tr>\n",
       "\t<tr><td>5631500400</td><td>20150225  </td><td> 180000   </td><td>2         </td><td>1.00      </td><td> 770      </td><td> 10000    </td><td>1         </td><td>0         </td><td>0         </td><td>⋯         </td><td> 6        </td><td> 770      </td><td>   0      </td><td>1933      </td><td>   0      </td><td>98028     </td><td>47.7379   </td><td>-122.233  </td><td>2720      </td><td>  8062    </td></tr>\n",
       "\t<tr><td>2487200875</td><td>20141209  </td><td> 604000   </td><td>4         </td><td>3.00      </td><td>1960      </td><td>  5000    </td><td>1         </td><td>0         </td><td>0         </td><td>⋯         </td><td> 7        </td><td>1050      </td><td> 910      </td><td>1965      </td><td>   0      </td><td>98136     </td><td>47.5208   </td><td>-122.393  </td><td>1360      </td><td>  5000    </td></tr>\n",
       "\t<tr><td>1954400510</td><td>20150218  </td><td> 510000   </td><td>3         </td><td>2.00      </td><td>1680      </td><td>  8080    </td><td>1         </td><td>0         </td><td>0         </td><td>⋯         </td><td> 8        </td><td>1680      </td><td>   0      </td><td>1987      </td><td>   0      </td><td>98074     </td><td>47.6168   </td><td>-122.045  </td><td>1800      </td><td>  7503    </td></tr>\n",
       "\t<tr><td>7237550310</td><td>20140512  </td><td>1225000   </td><td>4         </td><td>4.50      </td><td>5420      </td><td>101930    </td><td>1         </td><td>0         </td><td>0         </td><td>⋯         </td><td>11        </td><td>3890      </td><td>1530      </td><td>2001      </td><td>   0      </td><td>98053     </td><td>47.6561   </td><td>-122.005  </td><td>4760      </td><td>101930    </td></tr>\n",
       "</tbody>\n",
       "</table>\n"
      ],
      "text/latex": [
       "\\begin{tabular}{r|lllllllllllllllllllll}\n",
       " id & date & price & bedrooms & bathrooms & sqft\\_living & sqft\\_lot & floors & waterfront & view & ⋯ & grade & sqft\\_above & sqft\\_basement & yr\\_built & yr\\_renovated & zipcode & lat & long & sqft\\_living15 & sqft\\_lot15\\\\\n",
       "\\hline\n",
       "\t 7129300520 & 20141013   &  221900    & 3          & 1.00       & 1180       &   5650     & 1          & 0          & 0          & ⋯          &  7         & 1180       &    0       & 1955       &    0       & 98178      & 47.5112    & -122.257   & 1340       &   5650    \\\\\n",
       "\t 6414100192 & 20141209   &  538000    & 3          & 2.25       & 2570       &   7242     & 2          & 0          & 0          & ⋯          &  7         & 2170       &  400       & 1951       & 1991       & 98125      & 47.7210    & -122.319   & 1690       &   7639    \\\\\n",
       "\t 5631500400 & 20150225   &  180000    & 2          & 1.00       &  770       &  10000     & 1          & 0          & 0          & ⋯          &  6         &  770       &    0       & 1933       &    0       & 98028      & 47.7379    & -122.233   & 2720       &   8062    \\\\\n",
       "\t 2487200875 & 20141209   &  604000    & 4          & 3.00       & 1960       &   5000     & 1          & 0          & 0          & ⋯          &  7         & 1050       &  910       & 1965       &    0       & 98136      & 47.5208    & -122.393   & 1360       &   5000    \\\\\n",
       "\t 1954400510 & 20150218   &  510000    & 3          & 2.00       & 1680       &   8080     & 1          & 0          & 0          & ⋯          &  8         & 1680       &    0       & 1987       &    0       & 98074      & 47.6168    & -122.045   & 1800       &   7503    \\\\\n",
       "\t 7237550310 & 20140512   & 1225000    & 4          & 4.50       & 5420       & 101930     & 1          & 0          & 0          & ⋯          & 11         & 3890       & 1530       & 2001       &    0       & 98053      & 47.6561    & -122.005   & 4760       & 101930    \\\\\n",
       "\\end{tabular}\n"
      ],
      "text/markdown": [
       "\n",
       "id | date | price | bedrooms | bathrooms | sqft_living | sqft_lot | floors | waterfront | view | ⋯ | grade | sqft_above | sqft_basement | yr_built | yr_renovated | zipcode | lat | long | sqft_living15 | sqft_lot15 | \n",
       "|---|---|---|---|---|---|\n",
       "| 7129300520 | 20141013   |  221900    | 3          | 1.00       | 1180       |   5650     | 1          | 0          | 0          | ⋯          |  7         | 1180       |    0       | 1955       |    0       | 98178      | 47.5112    | -122.257   | 1340       |   5650     | \n",
       "| 6414100192 | 20141209   |  538000    | 3          | 2.25       | 2570       |   7242     | 2          | 0          | 0          | ⋯          |  7         | 2170       |  400       | 1951       | 1991       | 98125      | 47.7210    | -122.319   | 1690       |   7639     | \n",
       "| 5631500400 | 20150225   |  180000    | 2          | 1.00       |  770       |  10000     | 1          | 0          | 0          | ⋯          |  6         |  770       |    0       | 1933       |    0       | 98028      | 47.7379    | -122.233   | 2720       |   8062     | \n",
       "| 2487200875 | 20141209   |  604000    | 4          | 3.00       | 1960       |   5000     | 1          | 0          | 0          | ⋯          |  7         | 1050       |  910       | 1965       |    0       | 98136      | 47.5208    | -122.393   | 1360       |   5000     | \n",
       "| 1954400510 | 20150218   |  510000    | 3          | 2.00       | 1680       |   8080     | 1          | 0          | 0          | ⋯          |  8         | 1680       |    0       | 1987       |    0       | 98074      | 47.6168    | -122.045   | 1800       |   7503     | \n",
       "| 7237550310 | 20140512   | 1225000    | 4          | 4.50       | 5420       | 101930     | 1          | 0          | 0          | ⋯          | 11         | 3890       | 1530       | 2001       |    0       | 98053      | 47.6561    | -122.005   | 4760       | 101930     | \n",
       "\n",
       "\n"
      ],
      "text/plain": [
       "  id         date     price   bedrooms bathrooms sqft_living sqft_lot floors\n",
       "1 7129300520 20141013  221900 3        1.00      1180          5650   1     \n",
       "2 6414100192 20141209  538000 3        2.25      2570          7242   2     \n",
       "3 5631500400 20150225  180000 2        1.00       770         10000   1     \n",
       "4 2487200875 20141209  604000 4        3.00      1960          5000   1     \n",
       "5 1954400510 20150218  510000 3        2.00      1680          8080   1     \n",
       "6 7237550310 20140512 1225000 4        4.50      5420        101930   1     \n",
       "  waterfront view ⋯ grade sqft_above sqft_basement yr_built yr_renovated\n",
       "1 0          0    ⋯  7    1180          0          1955        0        \n",
       "2 0          0    ⋯  7    2170        400          1951     1991        \n",
       "3 0          0    ⋯  6     770          0          1933        0        \n",
       "4 0          0    ⋯  7    1050        910          1965        0        \n",
       "5 0          0    ⋯  8    1680          0          1987        0        \n",
       "6 0          0    ⋯ 11    3890       1530          2001        0        \n",
       "  zipcode lat     long     sqft_living15 sqft_lot15\n",
       "1 98178   47.5112 -122.257 1340            5650    \n",
       "2 98125   47.7210 -122.319 1690            7639    \n",
       "3 98028   47.7379 -122.233 2720            8062    \n",
       "4 98136   47.5208 -122.393 1360            5000    \n",
       "5 98074   47.6168 -122.045 1800            7503    \n",
       "6 98053   47.6561 -122.005 4760          101930    "
      ]
     },
     "metadata": {},
     "output_type": "display_data"
    }
   ],
   "source": [
    "head(houseDFo1)"
   ]
  },
  {
   "cell_type": "markdown",
   "metadata": {},
   "source": [
    "The dates are now just strings of numbers with the format '*yyyymmdd*'; therefore, we can use the date conversion method from **_R_** to convert these dates.  "
   ]
  },
  {
   "cell_type": "code",
   "execution_count": 35,
   "metadata": {},
   "outputs": [],
   "source": [
    "houseDFo1 <- transform(houseDFo1, date = as.Date(date, \"%Y%m%d\"))"
   ]
  },
  {
   "cell_type": "markdown",
   "metadata": {},
   "source": [
    "To ensure that the conversion to dates happend properly, we will no check the column data types followed by looking at the first few rows of the data."
   ]
  },
  {
   "cell_type": "code",
   "execution_count": 36,
   "metadata": {},
   "outputs": [
    {
     "data": {
      "text/html": [
       "<dl class=dl-horizontal>\n",
       "\t<dt>id</dt>\n",
       "\t\t<dd>'numeric'</dd>\n",
       "\t<dt>date</dt>\n",
       "\t\t<dd>'Date'</dd>\n",
       "\t<dt>price</dt>\n",
       "\t\t<dd>'numeric'</dd>\n",
       "\t<dt>bedrooms</dt>\n",
       "\t\t<dd>'integer'</dd>\n",
       "\t<dt>bathrooms</dt>\n",
       "\t\t<dd>'numeric'</dd>\n",
       "\t<dt>sqft_living</dt>\n",
       "\t\t<dd>'integer'</dd>\n",
       "\t<dt>sqft_lot</dt>\n",
       "\t\t<dd>'integer'</dd>\n",
       "\t<dt>floors</dt>\n",
       "\t\t<dd>'numeric'</dd>\n",
       "\t<dt>waterfront</dt>\n",
       "\t\t<dd>'integer'</dd>\n",
       "\t<dt>view</dt>\n",
       "\t\t<dd>'integer'</dd>\n",
       "\t<dt>condition</dt>\n",
       "\t\t<dd>'integer'</dd>\n",
       "\t<dt>grade</dt>\n",
       "\t\t<dd>'integer'</dd>\n",
       "\t<dt>sqft_above</dt>\n",
       "\t\t<dd>'integer'</dd>\n",
       "\t<dt>sqft_basement</dt>\n",
       "\t\t<dd>'integer'</dd>\n",
       "\t<dt>yr_built</dt>\n",
       "\t\t<dd>'integer'</dd>\n",
       "\t<dt>yr_renovated</dt>\n",
       "\t\t<dd>'integer'</dd>\n",
       "\t<dt>zipcode</dt>\n",
       "\t\t<dd>'integer'</dd>\n",
       "\t<dt>lat</dt>\n",
       "\t\t<dd>'numeric'</dd>\n",
       "\t<dt>long</dt>\n",
       "\t\t<dd>'numeric'</dd>\n",
       "\t<dt>sqft_living15</dt>\n",
       "\t\t<dd>'integer'</dd>\n",
       "\t<dt>sqft_lot15</dt>\n",
       "\t\t<dd>'integer'</dd>\n",
       "</dl>\n"
      ],
      "text/latex": [
       "\\begin{description*}\n",
       "\\item[id] 'numeric'\n",
       "\\item[date] 'Date'\n",
       "\\item[price] 'numeric'\n",
       "\\item[bedrooms] 'integer'\n",
       "\\item[bathrooms] 'numeric'\n",
       "\\item[sqft\\textbackslash{}\\_living] 'integer'\n",
       "\\item[sqft\\textbackslash{}\\_lot] 'integer'\n",
       "\\item[floors] 'numeric'\n",
       "\\item[waterfront] 'integer'\n",
       "\\item[view] 'integer'\n",
       "\\item[condition] 'integer'\n",
       "\\item[grade] 'integer'\n",
       "\\item[sqft\\textbackslash{}\\_above] 'integer'\n",
       "\\item[sqft\\textbackslash{}\\_basement] 'integer'\n",
       "\\item[yr\\textbackslash{}\\_built] 'integer'\n",
       "\\item[yr\\textbackslash{}\\_renovated] 'integer'\n",
       "\\item[zipcode] 'integer'\n",
       "\\item[lat] 'numeric'\n",
       "\\item[long] 'numeric'\n",
       "\\item[sqft\\textbackslash{}\\_living15] 'integer'\n",
       "\\item[sqft\\textbackslash{}\\_lot15] 'integer'\n",
       "\\end{description*}\n"
      ],
      "text/markdown": [
       "id\n",
       ":   'numeric'date\n",
       ":   'Date'price\n",
       ":   'numeric'bedrooms\n",
       ":   'integer'bathrooms\n",
       ":   'numeric'sqft_living\n",
       ":   'integer'sqft_lot\n",
       ":   'integer'floors\n",
       ":   'numeric'waterfront\n",
       ":   'integer'view\n",
       ":   'integer'condition\n",
       ":   'integer'grade\n",
       ":   'integer'sqft_above\n",
       ":   'integer'sqft_basement\n",
       ":   'integer'yr_built\n",
       ":   'integer'yr_renovated\n",
       ":   'integer'zipcode\n",
       ":   'integer'lat\n",
       ":   'numeric'long\n",
       ":   'numeric'sqft_living15\n",
       ":   'integer'sqft_lot15\n",
       ":   'integer'\n",
       "\n"
      ],
      "text/plain": [
       "           id          date         price      bedrooms     bathrooms \n",
       "    \"numeric\"        \"Date\"     \"numeric\"     \"integer\"     \"numeric\" \n",
       "  sqft_living      sqft_lot        floors    waterfront          view \n",
       "    \"integer\"     \"integer\"     \"numeric\"     \"integer\"     \"integer\" \n",
       "    condition         grade    sqft_above sqft_basement      yr_built \n",
       "    \"integer\"     \"integer\"     \"integer\"     \"integer\"     \"integer\" \n",
       " yr_renovated       zipcode           lat          long sqft_living15 \n",
       "    \"integer\"     \"integer\"     \"numeric\"     \"numeric\"     \"integer\" \n",
       "   sqft_lot15 \n",
       "    \"integer\" "
      ]
     },
     "metadata": {},
     "output_type": "display_data"
    },
    {
     "data": {
      "text/html": [
       "<table>\n",
       "<thead><tr><th scope=col>id</th><th scope=col>date</th><th scope=col>price</th><th scope=col>bedrooms</th><th scope=col>bathrooms</th><th scope=col>sqft_living</th><th scope=col>sqft_lot</th><th scope=col>floors</th><th scope=col>waterfront</th><th scope=col>view</th><th scope=col>⋯</th><th scope=col>grade</th><th scope=col>sqft_above</th><th scope=col>sqft_basement</th><th scope=col>yr_built</th><th scope=col>yr_renovated</th><th scope=col>zipcode</th><th scope=col>lat</th><th scope=col>long</th><th scope=col>sqft_living15</th><th scope=col>sqft_lot15</th></tr></thead>\n",
       "<tbody>\n",
       "\t<tr><td>7129300520</td><td>2014-10-13</td><td> 221900   </td><td>3         </td><td>1.00      </td><td>1180      </td><td>  5650    </td><td>1         </td><td>0         </td><td>0         </td><td>⋯         </td><td> 7        </td><td>1180      </td><td>   0      </td><td>1955      </td><td>   0      </td><td>98178     </td><td>47.5112   </td><td>-122.257  </td><td>1340      </td><td>  5650    </td></tr>\n",
       "\t<tr><td>6414100192</td><td>2014-12-09</td><td> 538000   </td><td>3         </td><td>2.25      </td><td>2570      </td><td>  7242    </td><td>2         </td><td>0         </td><td>0         </td><td>⋯         </td><td> 7        </td><td>2170      </td><td> 400      </td><td>1951      </td><td>1991      </td><td>98125     </td><td>47.7210   </td><td>-122.319  </td><td>1690      </td><td>  7639    </td></tr>\n",
       "\t<tr><td>5631500400</td><td>2015-02-25</td><td> 180000   </td><td>2         </td><td>1.00      </td><td> 770      </td><td> 10000    </td><td>1         </td><td>0         </td><td>0         </td><td>⋯         </td><td> 6        </td><td> 770      </td><td>   0      </td><td>1933      </td><td>   0      </td><td>98028     </td><td>47.7379   </td><td>-122.233  </td><td>2720      </td><td>  8062    </td></tr>\n",
       "\t<tr><td>2487200875</td><td>2014-12-09</td><td> 604000   </td><td>4         </td><td>3.00      </td><td>1960      </td><td>  5000    </td><td>1         </td><td>0         </td><td>0         </td><td>⋯         </td><td> 7        </td><td>1050      </td><td> 910      </td><td>1965      </td><td>   0      </td><td>98136     </td><td>47.5208   </td><td>-122.393  </td><td>1360      </td><td>  5000    </td></tr>\n",
       "\t<tr><td>1954400510</td><td>2015-02-18</td><td> 510000   </td><td>3         </td><td>2.00      </td><td>1680      </td><td>  8080    </td><td>1         </td><td>0         </td><td>0         </td><td>⋯         </td><td> 8        </td><td>1680      </td><td>   0      </td><td>1987      </td><td>   0      </td><td>98074     </td><td>47.6168   </td><td>-122.045  </td><td>1800      </td><td>  7503    </td></tr>\n",
       "\t<tr><td>7237550310</td><td>2014-05-12</td><td>1225000   </td><td>4         </td><td>4.50      </td><td>5420      </td><td>101930    </td><td>1         </td><td>0         </td><td>0         </td><td>⋯         </td><td>11        </td><td>3890      </td><td>1530      </td><td>2001      </td><td>   0      </td><td>98053     </td><td>47.6561   </td><td>-122.005  </td><td>4760      </td><td>101930    </td></tr>\n",
       "</tbody>\n",
       "</table>\n"
      ],
      "text/latex": [
       "\\begin{tabular}{r|lllllllllllllllllllll}\n",
       " id & date & price & bedrooms & bathrooms & sqft\\_living & sqft\\_lot & floors & waterfront & view & ⋯ & grade & sqft\\_above & sqft\\_basement & yr\\_built & yr\\_renovated & zipcode & lat & long & sqft\\_living15 & sqft\\_lot15\\\\\n",
       "\\hline\n",
       "\t 7129300520 & 2014-10-13 &  221900    & 3          & 1.00       & 1180       &   5650     & 1          & 0          & 0          & ⋯          &  7         & 1180       &    0       & 1955       &    0       & 98178      & 47.5112    & -122.257   & 1340       &   5650    \\\\\n",
       "\t 6414100192 & 2014-12-09 &  538000    & 3          & 2.25       & 2570       &   7242     & 2          & 0          & 0          & ⋯          &  7         & 2170       &  400       & 1951       & 1991       & 98125      & 47.7210    & -122.319   & 1690       &   7639    \\\\\n",
       "\t 5631500400 & 2015-02-25 &  180000    & 2          & 1.00       &  770       &  10000     & 1          & 0          & 0          & ⋯          &  6         &  770       &    0       & 1933       &    0       & 98028      & 47.7379    & -122.233   & 2720       &   8062    \\\\\n",
       "\t 2487200875 & 2014-12-09 &  604000    & 4          & 3.00       & 1960       &   5000     & 1          & 0          & 0          & ⋯          &  7         & 1050       &  910       & 1965       &    0       & 98136      & 47.5208    & -122.393   & 1360       &   5000    \\\\\n",
       "\t 1954400510 & 2015-02-18 &  510000    & 3          & 2.00       & 1680       &   8080     & 1          & 0          & 0          & ⋯          &  8         & 1680       &    0       & 1987       &    0       & 98074      & 47.6168    & -122.045   & 1800       &   7503    \\\\\n",
       "\t 7237550310 & 2014-05-12 & 1225000    & 4          & 4.50       & 5420       & 101930     & 1          & 0          & 0          & ⋯          & 11         & 3890       & 1530       & 2001       &    0       & 98053      & 47.6561    & -122.005   & 4760       & 101930    \\\\\n",
       "\\end{tabular}\n"
      ],
      "text/markdown": [
       "\n",
       "id | date | price | bedrooms | bathrooms | sqft_living | sqft_lot | floors | waterfront | view | ⋯ | grade | sqft_above | sqft_basement | yr_built | yr_renovated | zipcode | lat | long | sqft_living15 | sqft_lot15 | \n",
       "|---|---|---|---|---|---|\n",
       "| 7129300520 | 2014-10-13 |  221900    | 3          | 1.00       | 1180       |   5650     | 1          | 0          | 0          | ⋯          |  7         | 1180       |    0       | 1955       |    0       | 98178      | 47.5112    | -122.257   | 1340       |   5650     | \n",
       "| 6414100192 | 2014-12-09 |  538000    | 3          | 2.25       | 2570       |   7242     | 2          | 0          | 0          | ⋯          |  7         | 2170       |  400       | 1951       | 1991       | 98125      | 47.7210    | -122.319   | 1690       |   7639     | \n",
       "| 5631500400 | 2015-02-25 |  180000    | 2          | 1.00       |  770       |  10000     | 1          | 0          | 0          | ⋯          |  6         |  770       |    0       | 1933       |    0       | 98028      | 47.7379    | -122.233   | 2720       |   8062     | \n",
       "| 2487200875 | 2014-12-09 |  604000    | 4          | 3.00       | 1960       |   5000     | 1          | 0          | 0          | ⋯          |  7         | 1050       |  910       | 1965       |    0       | 98136      | 47.5208    | -122.393   | 1360       |   5000     | \n",
       "| 1954400510 | 2015-02-18 |  510000    | 3          | 2.00       | 1680       |   8080     | 1          | 0          | 0          | ⋯          |  8         | 1680       |    0       | 1987       |    0       | 98074      | 47.6168    | -122.045   | 1800       |   7503     | \n",
       "| 7237550310 | 2014-05-12 | 1225000    | 4          | 4.50       | 5420       | 101930     | 1          | 0          | 0          | ⋯          | 11         | 3890       | 1530       | 2001       |    0       | 98053      | 47.6561    | -122.005   | 4760       | 101930     | \n",
       "\n",
       "\n"
      ],
      "text/plain": [
       "  id         date       price   bedrooms bathrooms sqft_living sqft_lot floors\n",
       "1 7129300520 2014-10-13  221900 3        1.00      1180          5650   1     \n",
       "2 6414100192 2014-12-09  538000 3        2.25      2570          7242   2     \n",
       "3 5631500400 2015-02-25  180000 2        1.00       770         10000   1     \n",
       "4 2487200875 2014-12-09  604000 4        3.00      1960          5000   1     \n",
       "5 1954400510 2015-02-18  510000 3        2.00      1680          8080   1     \n",
       "6 7237550310 2014-05-12 1225000 4        4.50      5420        101930   1     \n",
       "  waterfront view ⋯ grade sqft_above sqft_basement yr_built yr_renovated\n",
       "1 0          0    ⋯  7    1180          0          1955        0        \n",
       "2 0          0    ⋯  7    2170        400          1951     1991        \n",
       "3 0          0    ⋯  6     770          0          1933        0        \n",
       "4 0          0    ⋯  7    1050        910          1965        0        \n",
       "5 0          0    ⋯  8    1680          0          1987        0        \n",
       "6 0          0    ⋯ 11    3890       1530          2001        0        \n",
       "  zipcode lat     long     sqft_living15 sqft_lot15\n",
       "1 98178   47.5112 -122.257 1340            5650    \n",
       "2 98125   47.7210 -122.319 1690            7639    \n",
       "3 98028   47.7379 -122.233 2720            8062    \n",
       "4 98136   47.5208 -122.393 1360            5000    \n",
       "5 98074   47.6168 -122.045 1800            7503    \n",
       "6 98053   47.6561 -122.005 4760          101930    "
      ]
     },
     "metadata": {},
     "output_type": "display_data"
    }
   ],
   "source": [
    "sapply(houseDFo1, class)\n",
    "head(houseDFo1)"
   ]
  },
  {
   "cell_type": "markdown",
   "metadata": {},
   "source": [
    "Since the results for the date conversions are as desired, we can now store the data in a final data frame followed by moving on to begining our analysis."
   ]
  },
  {
   "cell_type": "code",
   "execution_count": 37,
   "metadata": {
    "collapsed": true
   },
   "outputs": [],
   "source": [
    "houseDF <- houseDFo1"
   ]
  },
  {
   "cell_type": "markdown",
   "metadata": {},
   "source": [
    "We will also create a version of the data with the **ID** column stripped out."
   ]
  },
  {
   "cell_type": "code",
   "execution_count": 44,
   "metadata": {},
   "outputs": [],
   "source": [
    "houseDFa <- houseDF[-c(1)]"
   ]
  },
  {
   "cell_type": "markdown",
   "metadata": {},
   "source": [
    "## Initial Analysis\n"
   ]
  },
  {
   "cell_type": "markdown",
   "metadata": {},
   "source": [
    "To begin our analysis, we will look at the basic statistics of every column (*except the date*).  Starting with the **mean**, we have"
   ]
  },
  {
   "cell_type": "code",
   "execution_count": null,
   "metadata": {
    "collapsed": true
   },
   "outputs": [],
   "source": [
    "sapply(houseDFa[-c(1)], (mean), na.rm = TRUE)"
   ]
  },
  {
   "cell_type": "code",
   "execution_count": 62,
   "metadata": {},
   "outputs": [
    {
     "data": {
      "text/html": [
       "<table>\n",
       "<thead><tr><th></th><th scope=col>price</th><th scope=col>bedrooms</th><th scope=col>bathrooms</th><th scope=col>sqft_living</th><th scope=col>sqft_lot</th><th scope=col>floors</th><th scope=col>waterfront</th><th scope=col>view</th><th scope=col>condition</th><th scope=col>grade</th><th scope=col>sqft_above</th><th scope=col>sqft_basement</th><th scope=col>yr_built</th><th scope=col>yr_renovated</th><th scope=col>zipcode</th><th scope=col>lat</th><th scope=col>long</th><th scope=col>sqft_living15</th><th scope=col>sqft_lot15</th></tr></thead>\n",
       "<tbody>\n",
       "\t<tr><th scope=row>mean</th><td>540088.1   </td><td>3.370842   </td><td>2.114757   </td><td>2079.9     </td><td>15106.97   </td><td>1.494309   </td><td>0.007541757</td><td>0.2343034  </td><td>3.40943    </td><td>7.656873   </td><td>1788.391   </td><td>291.509    </td><td>1971.005   </td><td>84.40226   </td><td>98077.94   </td><td>47.56005   </td><td>-122.2139  </td><td>1986.552   </td><td>12768.46   </td></tr>\n",
       "\t<tr><th scope=row>stdev</th><td>367127.2 </td><td>0.9300618</td><td>0.7701632</td><td>918.4409 </td><td>41420.51 </td><td>0.5399889</td><td>0.0865172</td><td>0.7663176</td><td>0.650743 </td><td>1.175459 </td><td>828.091  </td><td>442.575  </td><td>29.37341 </td><td>401.6792 </td><td>53.50503 </td><td>0.1385637</td><td>0.1408283</td><td>685.3913 </td><td>27304.18 </td></tr>\n",
       "</tbody>\n",
       "</table>\n"
      ],
      "text/latex": [
       "\\begin{tabular}{r|lllllllllllllllllll}\n",
       "  & price & bedrooms & bathrooms & sqft\\_living & sqft\\_lot & floors & waterfront & view & condition & grade & sqft\\_above & sqft\\_basement & yr\\_built & yr\\_renovated & zipcode & lat & long & sqft\\_living15 & sqft\\_lot15\\\\\n",
       "\\hline\n",
       "\tmean & 540088.1    & 3.370842    & 2.114757    & 2079.9      & 15106.97    & 1.494309    & 0.007541757 & 0.2343034   & 3.40943     & 7.656873    & 1788.391    & 291.509     & 1971.005    & 84.40226    & 98077.94    & 47.56005    & -122.2139   & 1986.552    & 12768.46   \\\\\n",
       "\tstdev & 367127.2  & 0.9300618 & 0.7701632 & 918.4409  & 41420.51  & 0.5399889 & 0.0865172 & 0.7663176 & 0.650743  & 1.175459  & 828.091   & 442.575   & 29.37341  & 401.6792  & 53.50503  & 0.1385637 & 0.1408283 & 685.3913  & 27304.18 \\\\\n",
       "\\end{tabular}\n"
      ],
      "text/markdown": [
       "\n",
       "| <!--/--> | price | bedrooms | bathrooms | sqft_living | sqft_lot | floors | waterfront | view | condition | grade | sqft_above | sqft_basement | yr_built | yr_renovated | zipcode | lat | long | sqft_living15 | sqft_lot15 | \n",
       "|---|---|\n",
       "| mean | 540088.1    | 3.370842    | 2.114757    | 2079.9      | 15106.97    | 1.494309    | 0.007541757 | 0.2343034   | 3.40943     | 7.656873    | 1788.391    | 291.509     | 1971.005    | 84.40226    | 98077.94    | 47.56005    | -122.2139   | 1986.552    | 12768.46    | \n",
       "| stdev | 367127.2  | 0.9300618 | 0.7701632 | 918.4409  | 41420.51  | 0.5399889 | 0.0865172 | 0.7663176 | 0.650743  | 1.175459  | 828.091   | 442.575   | 29.37341  | 401.6792  | 53.50503  | 0.1385637 | 0.1408283 | 685.3913  | 27304.18  | \n",
       "\n",
       "\n"
      ],
      "text/plain": [
       "      price    bedrooms  bathrooms sqft_living sqft_lot floors    waterfront \n",
       "mean  540088.1 3.370842  2.114757  2079.9      15106.97 1.494309  0.007541757\n",
       "stdev 367127.2 0.9300618 0.7701632 918.4409    41420.51 0.5399889 0.0865172  \n",
       "      view      condition grade    sqft_above sqft_basement yr_built\n",
       "mean  0.2343034 3.40943   7.656873 1788.391   291.509       1971.005\n",
       "stdev 0.7663176 0.650743  1.175459 828.091    442.575       29.37341\n",
       "      yr_renovated zipcode  lat       long      sqft_living15 sqft_lot15\n",
       "mean  84.40226     98077.94 47.56005  -122.2139 1986.552      12768.46  \n",
       "stdev 401.6792     53.50503 0.1385637 0.1408283 685.3913      27304.18  "
      ]
     },
     "metadata": {},
     "output_type": "display_data"
    }
   ],
   "source": [
    "sapply(houseDFa[-c(1)], function(x) list(mean=mean(x), \n",
    "                                         stdev=sd(x, na.rm=TRUE)))"
   ]
  },
  {
   "cell_type": "code",
   "execution_count": 38,
   "metadata": {
    "collapsed": true
   },
   "outputs": [],
   "source": [
    "library(magrittr)\n",
    "library(httr)"
   ]
  },
  {
   "cell_type": "code",
   "execution_count": null,
   "metadata": {
    "collapsed": true
   },
   "outputs": [],
   "source": []
  }
 ],
 "metadata": {
  "kernelspec": {
   "display_name": "R",
   "language": "R",
   "name": "ir"
  },
  "language_info": {
   "codemirror_mode": "r",
   "file_extension": ".r",
   "mimetype": "text/x-r-source",
   "name": "R",
   "pygments_lexer": "r",
   "version": "3.4.2"
  }
 },
 "nbformat": 4,
 "nbformat_minor": 2
}
