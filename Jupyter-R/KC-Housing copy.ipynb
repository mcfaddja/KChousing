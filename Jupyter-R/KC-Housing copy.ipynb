{
 "cells": [
  {
   "cell_type": "code",
   "execution_count": null,
   "metadata": {},
   "outputs": [],
   "source": [
    "install.packages(\"magrittr\")\n",
    "install.packages(\"ggmap\")\n",
    "install.packages(\"geosphere\")\n",
    "install.packages(\"httr\")"
   ]
  },
  {
   "cell_type": "markdown",
   "metadata": {},
   "source": [
    "# King County Housing Prices\n",
    "### *Jonathan McFadden*\n",
    "**TCSS-551: Big Data Analytics** -:- **_Autumn 2017_**\n",
    "\n",
    "## Introduction\n",
    "\n",
    "\n",
    "### Overview\n",
    "\n",
    "For our final project, we have chosen to analyze data covering housing sales in King County.  To do this, we are using the data from the **Kaggle** *King County House Sales Prediction* page at\n",
    "\n",
    "<center>https://www.kaggle.com/harlfoxem/housesalesprediction</center>\n",
    "\n",
    "From this page, we sign-up for an account (*free, but required for downloading*) and then download the *zip* file containing the *CSV* file with the data.\n",
    "\n",
    "Our goal is to use this data to create models for home sales in King County based on the feature information provided in the obtained data file.  Our eventual goal is two-fold.  First, we wish to create a model or models which will enable us to quantitatively predict house sale prices, using this data set as the basis for our model or models.  Our other goal is to determine, based on the obtained data, which features are most important to the sale price of a house.\n",
    "\n",
    "### Data File\n",
    "\n",
    "Our first task is to import, examine, and then give an overall description of the data.  We are especially interested in the size and descriptive contents of the data file.  Specifially, we want to know the number of sales contined within the data file and, especially, what parameters the data file uses to describe each house sale.  Furthermore, we want to check the import to ensure that the data was initially complete, that it was then imported correctly, and that **_R_** is interpreting the imported data properly.\n",
    "\n",
    "#### Import and First-Look\n",
    "\n",
    "We begin by importing the data file into the '**_houseDFo_**( )' data frame.  This data frame will serve as an intial data-frame, not the working one.  This is because we may need an initial frame to reload as a we clean the data, allowing us to avoid having to reimport the CSV file over ang over again.  Thus, we now import the CSV file into this initial data frame."
   ]
  },
  {
   "cell_type": "code",
   "execution_count": null,
   "metadata": {},
   "outputs": [],
   "source": [
    "houseDFo <- read.csv(\"../houseData.csv\")"
   ]
  },
  {
   "cell_type": "markdown",
   "metadata": {},
   "source": [
    "We are now interested in the number of data-points contined within the data file.  Thus, we want to see how many row **_R_** has imported."
   ]
  },
  {
   "cell_type": "code",
   "execution_count": null,
   "metadata": {},
   "outputs": [],
   "source": [
    "nrow(houseDFo)"
   ]
  },
  {
   "cell_type": "markdown",
   "metadata": {},
   "source": [
    "We also want to see how many descriptors the imported data uses to describe each house sale.  Thus we want to see how many columns **_R_** has imported."
   ]
  },
  {
   "cell_type": "code",
   "execution_count": null,
   "metadata": {
    "scrolled": true
   },
   "outputs": [],
   "source": [
    "ncol(houseDFo)"
   ]
  },
  {
   "cell_type": "markdown",
   "metadata": {},
   "source": [
    "In addition, we want to see what the labels for those columns are and what type of values the elements of each column have (*interger, numeric, string, etc.*)"
   ]
  },
  {
   "cell_type": "code",
   "execution_count": null,
   "metadata": {},
   "outputs": [],
   "source": [
    "sapply(houseDFo, class)"
   ]
  },
  {
   "cell_type": "markdown",
   "metadata": {},
   "source": [
    "From above, it is clear that the latitude and logitude were not properly recognized by **_R_** as it imported them.  Additionally, the **date** column did not import as a *date*, instead importing as a *factor*.  Therefore, we will now examine the first few rows of the imported data to see what may have caused the issues with imporation."
   ]
  },
  {
   "cell_type": "code",
   "execution_count": null,
   "metadata": {},
   "outputs": [],
   "source": [
    "head(houseDFo)"
   ]
  },
  {
   "cell_type": "markdown",
   "metadata": {},
   "source": [
    "Clearly, some elements of the data file did not import correctly; therefore, we must clean the data before we can proceed to analysis.\n",
    "\n",
    "### Clean the Data"
   ]
  },
  {
   "cell_type": "markdown",
   "metadata": {
    "collapsed": true
   },
   "source": [
    "#### Missing Data\n",
    "\n",
    "First, we will check to see if there are any missing data points."
   ]
  },
  {
   "cell_type": "code",
   "execution_count": null,
   "metadata": {},
   "outputs": [],
   "source": [
    "houseDFo[!complete.cases(houseDFo),]"
   ]
  },
  {
   "cell_type": "markdown",
   "metadata": {},
   "source": [
    "Since there are no missing data points, we can move on to the dates.\n",
    "\n",
    "#### Dates\n",
    "\n",
    "From the first few rows of the data table seen above, it is clear that we must first strip the *\"T000000\"* string at the end of every date.  To do this, we require the **stringr** library.  Thus, we import **stringr**"
   ]
  },
  {
   "cell_type": "code",
   "execution_count": null,
   "metadata": {},
   "outputs": [],
   "source": [
    "library(stringr)"
   ]
  },
  {
   "cell_type": "markdown",
   "metadata": {},
   "source": [
    "so we can now strip the offending substrings.  Before stripping these substrings, we create a copy of our initial data frame, **_houseDFo_**( ), so that our initial import data frame will remain untouched, and therefore available for reloading other data frames.  Thus, we create the copy and strip the substrings, storing the result in the copied data frame **_houseDFo1_**( )."
   ]
  },
  {
   "cell_type": "code",
   "execution_count": null,
   "metadata": {},
   "outputs": [],
   "source": [
    "houseDFo1 <- houseDFo\n",
    "houseDFo1$date = str_replace(houseDFo$date, \"T000000\", \"\")"
   ]
  },
  {
   "cell_type": "markdown",
   "metadata": {},
   "source": [
    "We now examine the result of this"
   ]
  },
  {
   "cell_type": "code",
   "execution_count": null,
   "metadata": {},
   "outputs": [],
   "source": [
    "head(houseDFo1)"
   ]
  },
  {
   "cell_type": "markdown",
   "metadata": {},
   "source": [
    "The dates are now just strings of numbers with the format '*yyyymmdd*'; therefore, we can use the date conversion method from **_R_** to convert these dates.  "
   ]
  },
  {
   "cell_type": "code",
   "execution_count": null,
   "metadata": {},
   "outputs": [],
   "source": [
    "houseDFo1 <- transform(houseDFo1, date = as.Date(date, \"%Y%m%d\"))"
   ]
  },
  {
   "cell_type": "markdown",
   "metadata": {},
   "source": [
    "To ensure that the conversion to dates happend properly, we will no check the column data types followed by looking at the first few rows of the data."
   ]
  },
  {
   "cell_type": "code",
   "execution_count": null,
   "metadata": {},
   "outputs": [],
   "source": [
    "sapply(houseDFo1, class)\n",
    "head(houseDFo1)"
   ]
  },
  {
   "cell_type": "markdown",
   "metadata": {},
   "source": [
    "Since the results for the date conversions are as desired, we can now move on to converting the longitutde and latitude columns (*lat*, *long*).\n",
    "\n",
    "#### Latitude and Longitude\n",
    "\n"
   ]
  },
  {
   "cell_type": "code",
   "execution_count": null,
   "metadata": {},
   "outputs": [],
   "source": []
  },
  {
   "cell_type": "code",
   "execution_count": null,
   "metadata": {},
   "outputs": [],
   "source": [
    "library(magrittr)\n",
    "library(httr)"
   ]
  },
  {
   "cell_type": "code",
   "execution_count": null,
   "metadata": {},
   "outputs": [],
   "source": []
  },
  {
   "cell_type": "code",
   "execution_count": null,
   "metadata": {},
   "outputs": [],
   "source": []
  },
  {
   "cell_type": "code",
   "execution_count": null,
   "metadata": {},
   "outputs": [],
   "source": []
  }
 ],
 "metadata": {
  "kernelspec": {
   "display_name": "R",
   "language": "R",
   "name": "ir"
  },
  "language_info": {
   "codemirror_mode": "r",
   "file_extension": ".r",
   "mimetype": "text/x-r-source",
   "name": "R",
   "pygments_lexer": "r",
   "version": "3.4.2"
  }
 },
 "nbformat": 4,
 "nbformat_minor": 2
}
